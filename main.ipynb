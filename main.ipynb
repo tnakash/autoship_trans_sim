{
 "cells": [
  {
   "cell_type": "code",
   "execution_count": 35,
   "metadata": {},
   "outputs": [],
   "source": [
    "import numpy as np\n",
    "import pandas as pd\n",
    "%matplotlib inline\n",
    "import matplotlib.pyplot as plt"
   ]
  },
  {
   "cell_type": "code",
   "execution_count": 24,
   "metadata": {},
   "outputs": [],
   "source": [
    "SHIP_AGE = 20"
   ]
  },
  {
   "cell_type": "code",
   "execution_count": 25,
   "metadata": {},
   "outputs": [],
   "source": [
    "def select_ship(spec, cost, year):\n",
    "    opex_sum    = spec.num_sf * cost.Seafarer[year] \\\n",
    "                + spec.num_so * cost.ShoreOpe[year] \\\n",
    "                + spec.sec_cost * cost.CS[year] \\\n",
    "                + spec.com_cost * cost.Comm[year]\n",
    "    capex_sum   = spec.sa_cost * cost.Situ[year] \\\n",
    "                + spec.pl_cost * cost.Plan[year] \\\n",
    "                + spec.ex_cost * cost.Exec[year] \\\n",
    "                + spec.ro_cost * cost.RemOpe[year] \\\n",
    "                + spec.rm_cost * cost.RemMon[year]\n",
    "    ac_loss     = spec.acc_ratio * cost.ExpLoss[year]\n",
    "    annual_cost = opex_sum + capex_sum/SHIP_AGE + ac_loss\n",
    "    sf_sum      = spec.num_sf + spec.num_so\n",
    "    select      = annual_cost.idxmin()\n",
    "    \n",
    "    return select, annual_cost, opex_sum, capex_sum, ac_loss, sf_sum"
   ]
  },
  {
   "cell_type": "code",
   "execution_count": 26,
   "metadata": {},
   "outputs": [],
   "source": [
    "cost = pd.read_csv(\"csv/cost.csv\")\n",
    "spec = pd.read_csv(\"csv/spec.csv\")\n",
    "demand = pd.read_csv(\"csv/demand.csv\")"
   ]
  },
  {
   "cell_type": "code",
   "execution_count": 27,
   "metadata": {},
   "outputs": [
    {
     "name": "stderr",
     "output_type": "stream",
     "text": [
      "<ipython-input-27-0b2803c9449f>:2: SettingWithCopyWarning: \n",
      "A value is trying to be set on a copy of a slice from a DataFrame\n",
      "\n",
      "See the caveats in the documentation: https://pandas.pydata.org/pandas-docs/stable/user_guide/indexing.html#returning-a-view-versus-a-copy\n",
      "  spec['sa_cost'][spec['SituationAwareness'].isin(['FullAuto'])] = 1\n",
      "<ipython-input-27-0b2803c9449f>:3: SettingWithCopyWarning: \n",
      "A value is trying to be set on a copy of a slice from a DataFrame\n",
      "\n",
      "See the caveats in the documentation: https://pandas.pydata.org/pandas-docs/stable/user_guide/indexing.html#returning-a-view-versus-a-copy\n",
      "  spec['sa_cost'][spec['SituationAwareness'].isin(['SemiAuto'])] = 0.5\n",
      "<ipython-input-27-0b2803c9449f>:5: SettingWithCopyWarning: \n",
      "A value is trying to be set on a copy of a slice from a DataFrame\n",
      "\n",
      "See the caveats in the documentation: https://pandas.pydata.org/pandas-docs/stable/user_guide/indexing.html#returning-a-view-versus-a-copy\n",
      "  spec['pl_cost'][spec['Planning'].isin(['FullAuto'])] = 1\n",
      "<ipython-input-27-0b2803c9449f>:6: SettingWithCopyWarning: \n",
      "A value is trying to be set on a copy of a slice from a DataFrame\n",
      "\n",
      "See the caveats in the documentation: https://pandas.pydata.org/pandas-docs/stable/user_guide/indexing.html#returning-a-view-versus-a-copy\n",
      "  spec['pl_cost'][spec['Planning'].isin(['SemiAuto'])] = 0.5\n",
      "<ipython-input-27-0b2803c9449f>:8: SettingWithCopyWarning: \n",
      "A value is trying to be set on a copy of a slice from a DataFrame\n",
      "\n",
      "See the caveats in the documentation: https://pandas.pydata.org/pandas-docs/stable/user_guide/indexing.html#returning-a-view-versus-a-copy\n",
      "  spec['ex_cost'][spec['Control'].isin(['FullAuto'])] = 1\n",
      "<ipython-input-27-0b2803c9449f>:9: SettingWithCopyWarning: \n",
      "A value is trying to be set on a copy of a slice from a DataFrame\n",
      "\n",
      "See the caveats in the documentation: https://pandas.pydata.org/pandas-docs/stable/user_guide/indexing.html#returning-a-view-versus-a-copy\n",
      "  spec['ex_cost'][spec['Control'].isin(['SemiAuto'])] = 0.5\n",
      "<ipython-input-27-0b2803c9449f>:11: SettingWithCopyWarning: \n",
      "A value is trying to be set on a copy of a slice from a DataFrame\n",
      "\n",
      "See the caveats in the documentation: https://pandas.pydata.org/pandas-docs/stable/user_guide/indexing.html#returning-a-view-versus-a-copy\n",
      "  spec['ro_cost'][spec['Remote'].isin(['Control'])] = 1\n",
      "<ipython-input-27-0b2803c9449f>:13: SettingWithCopyWarning: \n",
      "A value is trying to be set on a copy of a slice from a DataFrame\n",
      "\n",
      "See the caveats in the documentation: https://pandas.pydata.org/pandas-docs/stable/user_guide/indexing.html#returning-a-view-versus-a-copy\n",
      "  spec['rm_cost'][spec['Remote'].isin(['Monitor'])] = 1\n"
     ]
    }
   ],
   "source": [
    "spec['sa_cost'] = 0\n",
    "spec['sa_cost'][spec['SituationAwareness'].isin(['FullAuto'])] = 1\n",
    "spec['sa_cost'][spec['SituationAwareness'].isin(['SemiAuto'])] = 0.5\n",
    "spec['pl_cost'] = 0\n",
    "spec['pl_cost'][spec['Planning'].isin(['FullAuto'])] = 1\n",
    "spec['pl_cost'][spec['Planning'].isin(['SemiAuto'])] = 0.5\n",
    "spec['ex_cost'] = 0\n",
    "spec['ex_cost'][spec['Control'].isin(['FullAuto'])] = 1\n",
    "spec['ex_cost'][spec['Control'].isin(['SemiAuto'])] = 0.5\n",
    "spec['ro_cost'] = 0\n",
    "spec['ro_cost'][spec['Remote'].isin(['Control'])] = 1\n",
    "spec['rm_cost'] = 0\n",
    "spec['rm_cost'][spec['Remote'].isin(['Monitor'])] = 1"
   ]
  },
  {
   "cell_type": "code",
   "execution_count": 28,
   "metadata": {},
   "outputs": [
    {
     "name": "stdout",
     "output_type": "stream",
     "text": [
      "year= 2050\n"
     ]
    },
    {
     "data": {
      "image/png": "[encoded data removed]",
      "text/plain": [
       "<Figure size 432x288 with 1 Axes>"
      ]
     },
     "metadata": {
      "needs_background": "light"
     },
     "output_type": "display_data"
    }
   ],
   "source": [
    "select = [0] * 50\n",
    "labels = []\n",
    "\n",
    "for i in range(50):\n",
    "    select[i], annual_cost, opex_sum, capex_sum, ac_loss, sf_sum = select_ship(spec, cost, i)\n",
    "\n",
    "    if cost.Year[i] == 2050:\n",
    "        print('year=', cost.Year[i])\n",
    "        plt.scatter(x=annual_cost, y=ac_loss*sf_sum)\n",
    "        for j, label in enumerate(spec.index.values):\n",
    "            plt.text(annual_cost[j], ac_loss[j]* sf_sum[j], label)"
   ]
  },
  {
   "cell_type": "code",
   "execution_count": 30,
   "metadata": {},
   "outputs": [],
   "source": [
    "for i in list(set(spec.ship_type[select])):\n",
    "    demand[i] = 0\n",
    "\n",
    "# list(set(spec.ship_type[select]))\n",
    "\n",
    "demand[spec.ship_type[80]] = 0     "
   ]
  },
  {
   "cell_type": "code",
   "execution_count": 31,
   "metadata": {},
   "outputs": [],
   "source": [
    "demand[spec.ship_type[80]][0] = demand.NumofShip[0] # Initial num of ship\n",
    "for i in range(50):\n",
    "    demand[spec.ship_type[select[i]]][i] = demand.Newbuilding[i]\n",
    "    if i >= 1:\n",
    "        demand[spec.ship_type[select[i]]][i] += demand[spec.ship_type[select[i]]][i-1] + demand.Newbuilding[i]\n",
    "    if i-SHIP_AGE > 0:\n",
    "        demand[spec.ship_type[select[i-SHIP_AGE-1]]][i] -= demand.Newbuilding[i-SHIP_AGE-1]\n",
    "    if i >= 1 and i <= SHIP_AGE:\n",
    "        demand[spec.ship_type[80]][i] += demand[spec.ship_type[80]][i-1] - demand['Scrap'][i]   "
   ]
  },
  {
   "cell_type": "code",
   "execution_count": 34,
   "metadata": {},
   "outputs": [
    {
     "data": {
      "image/png": "[encoded data removed]",
      "text/plain": [
       "<Figure size 432x288 with 1 Axes>"
      ]
     },
     "metadata": {
      "needs_background": "light"
     },
     "output_type": "display_data"
    }
   ],
   "source": [
    "labels = list(set(spec.ship_type[select]))\n",
    "labels.append(spec.ship_type[80])\n",
    "fig, ax = plt.subplots()\n",
    "ax.stackplot(demand.Year, demand[spec.ship_type[select[0]]], demand[spec.ship_type[80]], labels=labels)\n",
    "ax.legend(loc=\"upper left\")\n",
    "\n",
    "plt.show()"
   ]
  },
  {
   "cell_type": "markdown",
   "metadata": {},
   "source": []
  }
 ],
 "metadata": {
  "interpreter": {
   "hash": "27622cd7855c7885630ae01405b4f179c798330411a7224289be2037512f4534"
  },
  "kernelspec": {
   "display_name": "Python 3.9.9 64-bit",
   "language": "python",
   "name": "python3"
  },
  "language_info": {
   "codemirror_mode": {
    "name": "ipython",
    "version": 3
   },
   "file_extension": ".py",
   "mimetype": "text/x-python",
   "name": "python",
   "nbconvert_exporter": "python",
   "pygments_lexer": "ipython3",
   "version": "3.8.8"
  },
  "orig_nbformat": 4
 },
 "nbformat": 4,
 "nbformat_minor": 2
}
